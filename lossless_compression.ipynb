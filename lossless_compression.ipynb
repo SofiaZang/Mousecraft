{
 "cells": [
  {
   "cell_type": "code",
   "execution_count": null,
   "id": "7225c4b5",
   "metadata": {},
   "outputs": [],
   "source": [
    "import numpy as np\n",
    "import matplotlib.pyplot as plt\n",
    "import pandas as pd\n",
    "import tifffile\n",
    "from skimage import filters\n",
    "from scipy.ndimage import label, binary_closing\n",
    "\n",
    "from pathlib import Path\n",
    "from PIL import Image\n",
    "import imageio\n",
    "import cv2\n",
    "\n",
    "from patchnmf.data_io import *\n",
    "from patchnmf.analyse.videography_compute import *\n",
    "from patchnmf.analyse.videography_plot import *"
   ]
  },
  {
   "cell_type": "code",
   "execution_count": null,
   "id": "c6a6108a",
   "metadata": {},
   "outputs": [],
   "source": [
    "def mkdir(path):\n",
    "    if not os.path.exists(path): os.makedirs(path)\n",
    "    return path"
   ]
  },
  {
   "cell_type": "code",
   "execution_count": null,
   "id": "dc42fe70",
   "metadata": {},
   "outputs": [],
   "source": [
    "data_path = rf'C:\\Users\\zaggila\\Documents\\pixelNMF\\data' \n",
    "# sessions = sorted([f for f in os.listdir(data_path) if f.endswith('_cell_control')])\n",
    "# print(f'All sessions: {sessions}')\n",
    "\n",
    "ds = 'sz89_2024-06-06_a_cell_control'\n",
    "\n",
    "subject_path = os.path.join(data_path, ds) # choose one specifc ds \n",
    "movie_path = os.path.join(subject_path, 'cam_crop.tif')"
   ]
  },
  {
   "cell_type": "code",
   "execution_count": null,
   "id": "82ba2187",
   "metadata": {},
   "outputs": [],
   "source": [
    "# load uncompressed tiff\n",
    "\n",
    "tiff = io.imread(movie_path, plugin='tifffile') #pil loads on snapshot \n",
    "\n",
    "# making sure smallest value of tiff is zero - just a linear transform, shouldn't affect NMF ? \n",
    "tiff -= np.min(tiff)\n",
    "print(f'Shape of video: {tiff.shape}')"
   ]
  },
  {
   "cell_type": "code",
   "execution_count": null,
   "id": "ed362043",
   "metadata": {},
   "outputs": [],
   "source": [
    "# LossLess compression (output tiff or avi)\n",
    "\n",
    "# Normalize if needed\n",
    "tiff = tiff - np.min(tiff)\n",
    "tiff = (tiff / tiff.max() * 255).astype(np.uint8)\n",
    "\n",
    "# Convert grayscale to BGR if needed\n",
    "if len(tiff.shape) == 3:  # (frames, height, width)\n",
    "    tiff = np.stack([tiff] * 3, axis=-1)\n",
    "\n",
    "# Set up AVI writer\n",
    "height, width = tiff.shape[1:3] \n",
    "out = cv2.VideoWriter(\n",
    "    'compressed_beh_movie.avi',\n",
    "    cv2.VideoWriter_fourcc(*'FFV1'),  # Lossless codec (e.g., FFV1, MJPG, or XVID for near-lossless)\n",
    "    15,  # FPS\n",
    "    (width, height)\n",
    ")\n",
    "\n",
    "# Write frames\n",
    "for frame in tiff:\n",
    "    out.write(frame)\n",
    "out.release()\n",
    "print(\"Saved to output_video.avi\") # save compressed avi to load in GUI "
   ]
  }
 ],
 "metadata": {
  "language_info": {
   "name": "python"
  }
 },
 "nbformat": 4,
 "nbformat_minor": 5
}
